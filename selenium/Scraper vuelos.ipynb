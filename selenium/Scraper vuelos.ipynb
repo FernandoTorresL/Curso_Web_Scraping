{
 "cells": [
  {
   "cell_type": "markdown",
   "metadata": {},
   "source": [
    "# Searching flights"
   ]
  },
  {
   "cell_type": "code",
   "execution_count": 208,
   "metadata": {},
   "outputs": [],
   "source": [
    "url='https://www.latam.com/es_mx/apps/personas/booking?fecha1_dia=01&fecha1_anomes=2020-11&auAvailability=1&ida_vuelta=ida&vuelos_origen=Ciudad%20de%20M%C3%A9xico&from_city1=BUE&vuelos_destino=Canc%C3%BAn&to_city1=MAD&flex=1&vuelos_fecha_salida_ddmmaaaa=29/08/2020&cabina=Y&nadults=1&nchildren=0&ninfants=0&cod_promo=&stopover_outbound_days=0&stopover_inbound_days=0&application=#/'"
   ]
  },
  {
   "cell_type": "code",
   "execution_count": 209,
   "metadata": {},
   "outputs": [],
   "source": [
    "from selenium import webdriver"
   ]
  },
  {
   "cell_type": "markdown",
   "metadata": {},
   "source": [
    "## Step 01: Create a browser driver"
   ]
  },
  {
   "cell_type": "code",
   "execution_count": 210,
   "metadata": {},
   "outputs": [],
   "source": [
    "options = webdriver.ChromeOptions()\n",
    "options.add_argument('--incognito')\n",
    "driver = webdriver.Chrome(executable_path='../../../chromedriver', options=options)"
   ]
  },
  {
   "cell_type": "code",
   "execution_count": 211,
   "metadata": {},
   "outputs": [],
   "source": [
    "driver.get(url)"
   ]
  },
  {
   "cell_type": "code",
   "execution_count": 207,
   "metadata": {},
   "outputs": [
    {
     "ename": "InvalidSessionIdException",
     "evalue": "Message: invalid session id\n",
     "output_type": "error",
     "traceback": [
      "\u001b[0;31m---------------------------------------------------------------------------\u001b[0m",
      "\u001b[0;31mInvalidSessionIdException\u001b[0m                 Traceback (most recent call last)",
      "\u001b[0;32m<ipython-input-207-ad0c9a213c39>\u001b[0m in \u001b[0;36m<module>\u001b[0;34m\u001b[0m\n\u001b[0;32m----> 1\u001b[0;31m \u001b[0mdriver\u001b[0m\u001b[0;34m.\u001b[0m\u001b[0mclose\u001b[0m\u001b[0;34m(\u001b[0m\u001b[0;34m)\u001b[0m\u001b[0;34m\u001b[0m\u001b[0;34m\u001b[0m\u001b[0m\n\u001b[0m",
      "\u001b[0;32m~/opt/anaconda3/lib/python3.8/site-packages/selenium/webdriver/remote/webdriver.py\u001b[0m in \u001b[0;36mclose\u001b[0;34m(self)\u001b[0m\n\u001b[1;32m    686\u001b[0m             \u001b[0mdriver\u001b[0m\u001b[0;34m.\u001b[0m\u001b[0mclose\u001b[0m\u001b[0;34m(\u001b[0m\u001b[0;34m)\u001b[0m\u001b[0;34m\u001b[0m\u001b[0;34m\u001b[0m\u001b[0m\n\u001b[1;32m    687\u001b[0m         \"\"\"\n\u001b[0;32m--> 688\u001b[0;31m         \u001b[0mself\u001b[0m\u001b[0;34m.\u001b[0m\u001b[0mexecute\u001b[0m\u001b[0;34m(\u001b[0m\u001b[0mCommand\u001b[0m\u001b[0;34m.\u001b[0m\u001b[0mCLOSE\u001b[0m\u001b[0;34m)\u001b[0m\u001b[0;34m\u001b[0m\u001b[0;34m\u001b[0m\u001b[0m\n\u001b[0m\u001b[1;32m    689\u001b[0m \u001b[0;34m\u001b[0m\u001b[0m\n\u001b[1;32m    690\u001b[0m     \u001b[0;32mdef\u001b[0m \u001b[0mquit\u001b[0m\u001b[0;34m(\u001b[0m\u001b[0mself\u001b[0m\u001b[0;34m)\u001b[0m\u001b[0;34m:\u001b[0m\u001b[0;34m\u001b[0m\u001b[0;34m\u001b[0m\u001b[0m\n",
      "\u001b[0;32m~/opt/anaconda3/lib/python3.8/site-packages/selenium/webdriver/remote/webdriver.py\u001b[0m in \u001b[0;36mexecute\u001b[0;34m(self, driver_command, params)\u001b[0m\n\u001b[1;32m    319\u001b[0m         \u001b[0mresponse\u001b[0m \u001b[0;34m=\u001b[0m \u001b[0mself\u001b[0m\u001b[0;34m.\u001b[0m\u001b[0mcommand_executor\u001b[0m\u001b[0;34m.\u001b[0m\u001b[0mexecute\u001b[0m\u001b[0;34m(\u001b[0m\u001b[0mdriver_command\u001b[0m\u001b[0;34m,\u001b[0m \u001b[0mparams\u001b[0m\u001b[0;34m)\u001b[0m\u001b[0;34m\u001b[0m\u001b[0;34m\u001b[0m\u001b[0m\n\u001b[1;32m    320\u001b[0m         \u001b[0;32mif\u001b[0m \u001b[0mresponse\u001b[0m\u001b[0;34m:\u001b[0m\u001b[0;34m\u001b[0m\u001b[0;34m\u001b[0m\u001b[0m\n\u001b[0;32m--> 321\u001b[0;31m             \u001b[0mself\u001b[0m\u001b[0;34m.\u001b[0m\u001b[0merror_handler\u001b[0m\u001b[0;34m.\u001b[0m\u001b[0mcheck_response\u001b[0m\u001b[0;34m(\u001b[0m\u001b[0mresponse\u001b[0m\u001b[0;34m)\u001b[0m\u001b[0;34m\u001b[0m\u001b[0;34m\u001b[0m\u001b[0m\n\u001b[0m\u001b[1;32m    322\u001b[0m             response['value'] = self._unwrap_value(\n\u001b[1;32m    323\u001b[0m                 response.get('value', None))\n",
      "\u001b[0;32m~/opt/anaconda3/lib/python3.8/site-packages/selenium/webdriver/remote/errorhandler.py\u001b[0m in \u001b[0;36mcheck_response\u001b[0;34m(self, response)\u001b[0m\n\u001b[1;32m    240\u001b[0m                 \u001b[0malert_text\u001b[0m \u001b[0;34m=\u001b[0m \u001b[0mvalue\u001b[0m\u001b[0;34m[\u001b[0m\u001b[0;34m'alert'\u001b[0m\u001b[0;34m]\u001b[0m\u001b[0;34m.\u001b[0m\u001b[0mget\u001b[0m\u001b[0;34m(\u001b[0m\u001b[0;34m'text'\u001b[0m\u001b[0;34m)\u001b[0m\u001b[0;34m\u001b[0m\u001b[0;34m\u001b[0m\u001b[0m\n\u001b[1;32m    241\u001b[0m             \u001b[0;32mraise\u001b[0m \u001b[0mexception_class\u001b[0m\u001b[0;34m(\u001b[0m\u001b[0mmessage\u001b[0m\u001b[0;34m,\u001b[0m \u001b[0mscreen\u001b[0m\u001b[0;34m,\u001b[0m \u001b[0mstacktrace\u001b[0m\u001b[0;34m,\u001b[0m \u001b[0malert_text\u001b[0m\u001b[0;34m)\u001b[0m\u001b[0;34m\u001b[0m\u001b[0;34m\u001b[0m\u001b[0m\n\u001b[0;32m--> 242\u001b[0;31m         \u001b[0;32mraise\u001b[0m \u001b[0mexception_class\u001b[0m\u001b[0;34m(\u001b[0m\u001b[0mmessage\u001b[0m\u001b[0;34m,\u001b[0m \u001b[0mscreen\u001b[0m\u001b[0;34m,\u001b[0m \u001b[0mstacktrace\u001b[0m\u001b[0;34m)\u001b[0m\u001b[0;34m\u001b[0m\u001b[0;34m\u001b[0m\u001b[0m\n\u001b[0m\u001b[1;32m    243\u001b[0m \u001b[0;34m\u001b[0m\u001b[0m\n\u001b[1;32m    244\u001b[0m     \u001b[0;32mdef\u001b[0m \u001b[0m_value_or_default\u001b[0m\u001b[0;34m(\u001b[0m\u001b[0mself\u001b[0m\u001b[0;34m,\u001b[0m \u001b[0mobj\u001b[0m\u001b[0;34m,\u001b[0m \u001b[0mkey\u001b[0m\u001b[0;34m,\u001b[0m \u001b[0mdefault\u001b[0m\u001b[0;34m)\u001b[0m\u001b[0;34m:\u001b[0m\u001b[0;34m\u001b[0m\u001b[0;34m\u001b[0m\u001b[0m\n",
      "\u001b[0;31mInvalidSessionIdException\u001b[0m: Message: invalid session id\n"
     ]
    }
   ],
   "source": [
    "driver.close()"
   ]
  },
  {
   "cell_type": "code",
   "execution_count": 212,
   "metadata": {},
   "outputs": [],
   "source": [
    "flights = driver.find_elements_by_xpath('//li[@class=\"flight\"]')"
   ]
  },
  {
   "cell_type": "code",
   "execution_count": 213,
   "metadata": {},
   "outputs": [
    {
     "data": {
      "text/plain": [
       "[<selenium.webdriver.remote.webelement.WebElement (session=\"6c3b8442446758d7ed09026d9cd54724\", element=\"472deb38-2604-4920-a9d8-4fc2c4bf572d\")>,\n",
       " <selenium.webdriver.remote.webelement.WebElement (session=\"6c3b8442446758d7ed09026d9cd54724\", element=\"3f1e9d13-c4ba-43eb-af1e-8d0ad56ab80c\")>,\n",
       " <selenium.webdriver.remote.webelement.WebElement (session=\"6c3b8442446758d7ed09026d9cd54724\", element=\"61f769b9-3724-4cad-9dd7-a005da414491\")>,\n",
       " <selenium.webdriver.remote.webelement.WebElement (session=\"6c3b8442446758d7ed09026d9cd54724\", element=\"79be6f9e-fafc-4573-8bbe-976df9c28f81\")>,\n",
       " <selenium.webdriver.remote.webelement.WebElement (session=\"6c3b8442446758d7ed09026d9cd54724\", element=\"ee87fb6c-3730-46bc-b67f-51b6019365bb\")>,\n",
       " <selenium.webdriver.remote.webelement.WebElement (session=\"6c3b8442446758d7ed09026d9cd54724\", element=\"cd019fe5-89a3-4dac-a8f0-39f363db15b8\")>,\n",
       " <selenium.webdriver.remote.webelement.WebElement (session=\"6c3b8442446758d7ed09026d9cd54724\", element=\"344bb674-ad86-43c6-a971-a53db643aaef\")>,\n",
       " <selenium.webdriver.remote.webelement.WebElement (session=\"6c3b8442446758d7ed09026d9cd54724\", element=\"d6f33a5c-8f55-4109-acdd-3fca8eab6c59\")>,\n",
       " <selenium.webdriver.remote.webelement.WebElement (session=\"6c3b8442446758d7ed09026d9cd54724\", element=\"ca497e9d-e7dd-46be-a1d1-bbc80739a91f\")>,\n",
       " <selenium.webdriver.remote.webelement.WebElement (session=\"6c3b8442446758d7ed09026d9cd54724\", element=\"7f6ccba3-f141-4312-a15d-21c03fbd7a09\")>,\n",
       " <selenium.webdriver.remote.webelement.WebElement (session=\"6c3b8442446758d7ed09026d9cd54724\", element=\"916b4d6b-0e7e-4f37-a1c0-8e26c74e1055\")>,\n",
       " <selenium.webdriver.remote.webelement.WebElement (session=\"6c3b8442446758d7ed09026d9cd54724\", element=\"8eac31a3-cc85-4b00-b24a-3c39f6659f7d\")>,\n",
       " <selenium.webdriver.remote.webelement.WebElement (session=\"6c3b8442446758d7ed09026d9cd54724\", element=\"b8da425a-c624-4d32-beea-279a4b79e46c\")>,\n",
       " <selenium.webdriver.remote.webelement.WebElement (session=\"6c3b8442446758d7ed09026d9cd54724\", element=\"a35877ca-43a5-4e83-bd8c-490793ece83a\")>,\n",
       " <selenium.webdriver.remote.webelement.WebElement (session=\"6c3b8442446758d7ed09026d9cd54724\", element=\"58c49f20-1832-4952-984c-e2b0af9423ea\")>,\n",
       " <selenium.webdriver.remote.webelement.WebElement (session=\"6c3b8442446758d7ed09026d9cd54724\", element=\"c1fe9868-fdb6-43f7-b12e-87dcd36560eb\")>,\n",
       " <selenium.webdriver.remote.webelement.WebElement (session=\"6c3b8442446758d7ed09026d9cd54724\", element=\"582894d3-bdde-4fd4-af34-8fff115c2d65\")>,\n",
       " <selenium.webdriver.remote.webelement.WebElement (session=\"6c3b8442446758d7ed09026d9cd54724\", element=\"b6c4cade-6fa3-4808-a839-e031790b958a\")>,\n",
       " <selenium.webdriver.remote.webelement.WebElement (session=\"6c3b8442446758d7ed09026d9cd54724\", element=\"b4036c98-33e0-433a-a56e-e769e2bf5c20\")>,\n",
       " <selenium.webdriver.remote.webelement.WebElement (session=\"6c3b8442446758d7ed09026d9cd54724\", element=\"40e085eb-d7d2-4980-83b8-66c05ffdf19d\")>]"
      ]
     },
     "execution_count": 213,
     "metadata": {},
     "output_type": "execute_result"
    }
   ],
   "source": [
    "flights"
   ]
  },
  {
   "cell_type": "code",
   "execution_count": 214,
   "metadata": {},
   "outputs": [
    {
     "data": {
      "text/plain": [
       "<selenium.webdriver.remote.webelement.WebElement (session=\"6c3b8442446758d7ed09026d9cd54724\", element=\"472deb38-2604-4920-a9d8-4fc2c4bf572d\")>"
      ]
     },
     "execution_count": 214,
     "metadata": {},
     "output_type": "execute_result"
    }
   ],
   "source": [
    "flight = flights[0]\n",
    "flight"
   ]
  },
  {
   "cell_type": "code",
   "execution_count": 215,
   "metadata": {},
   "outputs": [
    {
     "data": {
      "text/plain": [
       "<selenium.webdriver.remote.webelement.WebElement (session=\"6c3b8442446758d7ed09026d9cd54724\", element=\"abe3aae2-4d55-46ea-99ae-e6d2d652c9df\")>"
      ]
     },
     "execution_count": 215,
     "metadata": {},
     "output_type": "execute_result"
    }
   ],
   "source": [
    "flight.find_element_by_xpath('.//div[@class=\"departure\"]/time')"
   ]
  },
  {
   "cell_type": "code",
   "execution_count": 216,
   "metadata": {},
   "outputs": [
    {
     "data": {
      "text/plain": [
       "'18:35'"
      ]
     },
     "execution_count": 216,
     "metadata": {},
     "output_type": "execute_result"
    }
   ],
   "source": [
    "departure = flight.find_element_by_xpath('.//div[@class=\"departure\"]/time').get_attribute('datetime')\n",
    "departure"
   ]
  },
  {
   "cell_type": "code",
   "execution_count": null,
   "metadata": {},
   "outputs": [],
   "source": [
    "arrival = flight.find_element_by_xpath('.//div[@class=\"arrival\"]/time').get_attribute('datetime')\n",
    "arrival"
   ]
  },
  {
   "cell_type": "code",
   "execution_count": null,
   "metadata": {},
   "outputs": [],
   "source": [
    "duration = flight.find_element_by_xpath('.//span[@class=\"duration\"]/time').get_attribute('datetime')\n",
    "duration = duration.replace('PT', '')\n",
    "duration"
   ]
  },
  {
   "cell_type": "markdown",
   "metadata": {},
   "source": [
    "## Class 14: Interacting with elements"
   ]
  },
  {
   "cell_type": "code",
   "execution_count": null,
   "metadata": {},
   "outputs": [],
   "source": [
    "scala_button = flight.find_element_by_xpath('.//div[@class=\"flight-summary-stops-description\"]/button')\n",
    "scala_button"
   ]
  },
  {
   "cell_type": "code",
   "execution_count": null,
   "metadata": {},
   "outputs": [],
   "source": [
    "scala_button.click()"
   ]
  },
  {
   "cell_type": "code",
   "execution_count": null,
   "metadata": {},
   "outputs": [],
   "source": [
    "segments = flight.find_elements_by_xpath('//div[@class=\"sc-hZSUBg gfeULV\"]/div[@class=\"sc-cLQEGU hyoued\"]')\n",
    "segments"
   ]
  },
  {
   "cell_type": "code",
   "execution_count": null,
   "metadata": {},
   "outputs": [],
   "source": [
    "scalas = len(segments) - 1\n",
    "scalas"
   ]
  },
  {
   "cell_type": "code",
   "execution_count": null,
   "metadata": {},
   "outputs": [],
   "source": [
    "segment = segments[0]\n",
    "segment"
   ]
  },
  {
   "cell_type": "code",
   "execution_count": null,
   "metadata": {},
   "outputs": [],
   "source": [
    "segment.find_element_by_xpath('.//div[@class=\"sc-esOvli iQSbOQ\"]')"
   ]
  },
  {
   "cell_type": "code",
   "execution_count": null,
   "metadata": {},
   "outputs": [],
   "source": [
    "segment.find_element_by_xpath('.//div[@class=\"sc-esOvli iQSbOQ\"]//div[@class=\"sc-bwCtUz iybVbT\"]')\n",
    "                              "
   ]
  },
  {
   "cell_type": "code",
   "execution_count": null,
   "metadata": {},
   "outputs": [],
   "source": [
    "segment.find_element_by_xpath('.//div[@class=\"sc-esOvli iQSbOQ\"]//div[@class=\"sc-bwCtUz iybVbT\"]').text"
   ]
  },
  {
   "cell_type": "code",
   "execution_count": null,
   "metadata": {},
   "outputs": [],
   "source": [
    "origin = segment.find_element_by_xpath('.//div[@class=\"sc-esOvli iQSbOQ\"]//div[@class=\"sc-bwCtUz iybVbT\"]/abbr').text\n",
    "origin\n"
   ]
  },
  {
   "cell_type": "code",
   "execution_count": null,
   "metadata": {},
   "outputs": [],
   "source": [
    "origin = segment.find_element_by_xpath('.//div[@class=\"sc-gwVKww iahkEA\"]/div[@class=\"sc-bwCtUz iybVbT\"]/abbr').text\n",
    "origin"
   ]
  },
  {
   "cell_type": "code",
   "execution_count": null,
   "metadata": {},
   "outputs": [],
   "source": [
    "time_departure = segment.find_element_by_xpath('.//div[@class=\"sc-gwVKww iahkEA\"]/div[@class=\"sc-bwCtUz iybVbT\"]/time').text\n",
    "time_departure\n"
   ]
  },
  {
   "cell_type": "code",
   "execution_count": null,
   "metadata": {},
   "outputs": [],
   "source": [
    "origin_description = segment.find_element_by_xpath('.//div[@class=\"sc-gwVKww iahkEA\"]/div[@class=\"sc-bwCtUz iybVbT\"]/span').text\n",
    "origin_description\n"
   ]
  },
  {
   "cell_type": "code",
   "execution_count": null,
   "metadata": {},
   "outputs": [],
   "source": [
    "airport_name = segment.find_element_by_xpath('.//span[@class=\"sc-eTuwsz eumCTU\"]/span[@class=\"sc-hXRMBi gVvErD\"]').text\n",
    "airport_name\n"
   ]
  },
  {
   "cell_type": "code",
   "execution_count": null,
   "metadata": {},
   "outputs": [],
   "source": [
    "flight_duration = segment.find_element_by_xpath('.//div[@class=\"sc-esOvli iQSbOQ\"]//span[@class=\"sc-esjQYD dMquDU\"]/time').get_attribute('datetime')\n",
    "flight_duration\n"
   ]
  },
  {
   "cell_type": "code",
   "execution_count": null,
   "metadata": {},
   "outputs": [],
   "source": [
    "destination = segment.find_element_by_xpath('.//div[@class=\"sc-iujRgT jEtESl\"]//div[@class=\"sc-bwCtUz iybVbT\"]/abbr').text\n",
    "destination\n"
   ]
  },
  {
   "cell_type": "code",
   "execution_count": null,
   "metadata": {},
   "outputs": [],
   "source": [
    "driver.find_element_by_xpath('//div[@class=\"modal-content sc-iwsKbI eHVGAN\"]//button[@class=\"close\"]').click()"
   ]
  },
  {
   "cell_type": "code",
   "execution_count": null,
   "metadata": {},
   "outputs": [],
   "source": []
  },
  {
   "cell_type": "code",
   "execution_count": null,
   "metadata": {},
   "outputs": [],
   "source": []
  },
  {
   "cell_type": "code",
   "execution_count": null,
   "metadata": {},
   "outputs": [],
   "source": []
  },
  {
   "cell_type": "markdown",
   "metadata": {},
   "source": [
    "## Scraping fares"
   ]
  },
  {
   "cell_type": "code",
   "execution_count": 217,
   "metadata": {},
   "outputs": [],
   "source": [
    "flight.click()"
   ]
  },
  {
   "cell_type": "code",
   "execution_count": 223,
   "metadata": {},
   "outputs": [
    {
     "data": {
      "text/plain": [
       "[<selenium.webdriver.remote.webelement.WebElement (session=\"6c3b8442446758d7ed09026d9cd54724\", element=\"08b3c29e-9b89-4993-ae63-90984a56fe5b\")>]"
      ]
     },
     "execution_count": 223,
     "metadata": {},
     "output_type": "execute_result"
    }
   ],
   "source": [
    "flight.find_elements_by_xpath('//div[@class=\"fares-table-container\"]//div[@class=\"fabres-table-wrapper\"]')\n",
    "                              "
   ]
  },
  {
   "cell_type": "code",
   "execution_count": 227,
   "metadata": {},
   "outputs": [],
   "source": [
    "fares = flight.find_elements_by_xpath('//div[@class=\"fares-table-container\"]//div[@class=\"fares-table-wrapper\"]//tfoot//td[contains(@class, \"fare\")]')\n",
    "fares\n"
   ]
  },
  {
   "cell_type": "code",
   "execution_count": 228,
   "metadata": {},
   "outputs": [
    {
     "data": {
      "text/plain": [
       "<selenium.webdriver.remote.webelement.WebElement (session=\"6c3b8442446758d7ed09026d9cd54724\", element=\"76ebd751-e408-4b1b-b70d-b056d65425d4\")>"
      ]
     },
     "execution_count": 228,
     "metadata": {},
     "output_type": "execute_result"
    }
   ],
   "source": [
    "fare01 = fares[0]\n",
    "fare01\n"
   ]
  },
  {
   "cell_type": "code",
   "execution_count": 237,
   "metadata": {},
   "outputs": [
    {
     "data": {
      "text/plain": [
       "'LIGHT'"
      ]
     },
     "execution_count": 237,
     "metadata": {},
     "output_type": "execute_result"
    }
   ],
   "source": [
    "type_fare = fare01.find_element_by_xpath('.//label').get_attribute('for')\n",
    "type_fare\n"
   ]
  },
  {
   "cell_type": "code",
   "execution_count": 238,
   "metadata": {},
   "outputs": [
    {
     "data": {
      "text/plain": [
       "'US$'"
      ]
     },
     "execution_count": 238,
     "metadata": {},
     "output_type": "execute_result"
    }
   ],
   "source": [
    "currency = fare01.find_element_by_xpath('.//span[@class=\"price\"]/span[@class=\"currency-symbol\"]').text\n",
    "currency\n"
   ]
  },
  {
   "cell_type": "code",
   "execution_count": 239,
   "metadata": {},
   "outputs": [
    {
     "data": {
      "text/plain": [
       "'460'"
      ]
     },
     "execution_count": 239,
     "metadata": {},
     "output_type": "execute_result"
    }
   ],
   "source": [
    "price_fare = fare01.find_element_by_xpath('.//span[@class=\"price\"]/span[@class=\"value\"]/span').text\n",
    "price_fare\n"
   ]
  },
  {
   "cell_type": "code",
   "execution_count": 241,
   "metadata": {},
   "outputs": [
    {
     "data": {
      "text/plain": [
       "{'LIGHT': {'moneda': 'US$', 'valor': '460'}}"
      ]
     },
     "execution_count": 241,
     "metadata": {},
     "output_type": "execute_result"
    }
   ],
   "source": [
    "dict_fare01 = {type_fare:{'moneda': currency, 'valor': price_fare}}\n",
    "dict_fare01\n"
   ]
  },
  {
   "cell_type": "code",
   "execution_count": 243,
   "metadata": {},
   "outputs": [
    {
     "name": "stdout",
     "output_type": "stream",
     "text": [
      "{'LIGHT': {'moneda': 'US$', 'valor': '460'}}\n"
     ]
    }
   ],
   "source": [
    "prices = []\n",
    "prices.append(dict_fare01)\n",
    "print(dict_fare01)\n"
   ]
  },
  {
   "cell_type": "code",
   "execution_count": 245,
   "metadata": {},
   "outputs": [
    {
     "name": "stdout",
     "output_type": "stream",
     "text": [
      "{'LIGHT': {'moneda': 'US$', 'valor': '460'}}\n",
      "{'PLUS': {'moneda': 'US$', 'valor': '514'}}\n",
      "{'TOP': {'moneda': 'US$', 'valor': '572'}}\n"
     ]
    }
   ],
   "source": [
    "prices = []\n",
    "\n",
    "for fare in fares:\n",
    "    type_fare = fare.find_element_by_xpath('.//label').get_attribute('for')\n",
    "    currency = fare.find_element_by_xpath('.//span[@class=\"price\"]/span[@class=\"currency-symbol\"]').text\n",
    "    price_fare = fare.find_element_by_xpath('.//span[@class=\"price\"]/span[@class=\"value\"]/span').text\n",
    "    \n",
    "    dict_fares = {type_fare:{'moneda': currency, 'valor': price_fare}}\n",
    "    \n",
    "    prices.append(dict_fares)\n",
    "    print(dict_fares)\n",
    "\n"
   ]
  },
  {
   "cell_type": "code",
   "execution_count": null,
   "metadata": {},
   "outputs": [],
   "source": []
  }
 ],
 "metadata": {
  "kernelspec": {
   "display_name": "Python 3",
   "language": "python",
   "name": "python3"
  },
  "language_info": {
   "codemirror_mode": {
    "name": "ipython",
    "version": 3
   },
   "file_extension": ".py",
   "mimetype": "text/x-python",
   "name": "python",
   "nbconvert_exporter": "python",
   "pygments_lexer": "ipython3",
   "version": "3.8.3"
  }
 },
 "nbformat": 4,
 "nbformat_minor": 4
}
